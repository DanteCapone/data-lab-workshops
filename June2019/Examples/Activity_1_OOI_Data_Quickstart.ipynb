{
  "nbformat": 4,
  "nbformat_minor": 0,
  "metadata": {
    "colab": {
      "name": "Activity 1 OOI Data Quickstart.ipynb",
      "version": "0.3.2",
      "provenance": [],
      "toc_visible": true
    },
    "kernelspec": {
      "name": "python3",
      "display_name": "Python 3"
    }
  },
  "cells": [
    {
      "cell_type": "markdown",
      "metadata": {
        "id": "LiPthtG3isLc",
        "colab_type": "text"
      },
      "source": [
        "# Activity 1 - A Quickstart to Playing with OOI Data \n",
        "*Written by Sage Lichtenwalner, Rutgers University, May 30, 2019*\n",
        "\n",
        "The example was developed for the **June 2019 OOI Ocean Data Labs Workshop**"
      ]
    },
    {
      "cell_type": "markdown",
      "metadata": {
        "id": "DRdYSjRDwSQJ",
        "colab_type": "text"
      },
      "source": [
        "## Introduction\n",
        "In this Python notebook, we will demonstrate how to quickly access and work with data from the Ocean Observatories Initiative (OOI). \n",
        "\n",
        "This example was designed to run on Google's Colaboratory platform, though it should also work on any Jupyter notebook platform, assuming the required libraries are installed.  \n",
        "\n",
        "In this notebook, we will demonstrate the following **Data Discovery** steps:\n",
        "3. Loading Data\n",
        "4. Exporting Datasets for use in other software tools\n",
        "5. Quick Plotting\n",
        "\n",
        "We will use data from the **30m Dissolved Oxygen** sensor on the **[Global Irminger Sea Flanking Mooring A](https://oceanobservatories.org/site/gi03flma/)**, also known as **GI03FLMA-RIS01-03-DOSTAD000**.  You can find out more information about this instrument on the [OOI Website](https://oceanobservatories.org/instrument-class/do2/), the [OOI Data Portal](https://ooinet.oceanobservatories.org/data_access/?search=GI03FLMA-RIS01-03-DOSTAD000), or on the new [Rutgers OOI Data Review portal](https://datareview.marine.rutgers.edu/instruments/view/GI03FLMA-RIS01-03-DOSTAD000).\n",
        "\n",
        "<img src=\"https://oceanobservatories.org/wp-content/uploads/2015/09/CEV-OOI-Global-Irminger-Sea.jpg\" alt=\"OOI Irminger Sea Array\" width=\"600px\">"
      ]
    },
    {
      "cell_type": "markdown",
      "metadata": {
        "id": "xCOIdXnRiKNo",
        "colab_type": "text"
      },
      "source": [
        "## 3. Loading Data\n",
        "\n",
        "Okay, so let's start coding... \n",
        "\n",
        "The first thing we need to do is load several Python libraries that will help us load and work with the NetCDF files.  Google Colaboratory comes with many libraries already installed, like [numpy](https://www.numpy.org), [pandas](https://pandas.pydata.org) and [matplotlib](https://matplotlib.org).   But we need to load [xarray](http://xarray.pydata.org/en/stable/) and the netcdf4 library so we can load data files from the OOI."
      ]
    },
    {
      "cell_type": "code",
      "metadata": {
        "id": "eHk8O3nWiDi4",
        "colab_type": "code",
        "colab": {}
      },
      "source": [
        "import xarray as xr\n",
        "!pip install netcdf4==1.5.0"
      ],
      "execution_count": 0,
      "outputs": []
    },
    {
      "cell_type": "markdown",
      "metadata": {
        "id": "YdSTlBG44TvQ",
        "colab_type": "text"
      },
      "source": [
        "### Loading a single NetCDF data file\n",
        "When you request data from the OOI Data Portal, you often get quite a few of files in the output directory.  \n",
        "\n",
        "For the purposes of this activity, we will load only one **NetCDF data file** to make this example easy.  We will cover how to request data from the OOI Data Portal later.  Please refer to the *Accessing OOI Data Reference Guide* for more information on how to find the right link to use.\n",
        "\n",
        "Let's add the URL to our datafile here as a variable."
      ]
    },
    {
      "cell_type": "code",
      "metadata": {
        "id": "1_UgrbqO7W-f",
        "colab_type": "code",
        "colab": {}
      },
      "source": [
        "single_file = 'https://opendap.oceanobservatories.org/thredds/dodsC/ooi/sage-marine-rutgers/20190307T155319-GI03FLMA-RIS01-03-DOSTAD000-recovered_host-dosta_abcdjm_sio_instrument_recovered/deployment0001_GI03FLMA-RIS01-03-DOSTAD000-recovered_host-dosta_abcdjm_sio_instrument_recovered_20140912T201501-20150818T103001.nc'"
      ],
      "execution_count": 0,
      "outputs": []
    },
    {
      "cell_type": "markdown",
      "metadata": {
        "id": "g2L-dYR57jpX",
        "colab_type": "text"
      },
      "source": [
        "We can now easily load this file using xarray's `open_dataset()` function"
      ]
    },
    {
      "cell_type": "code",
      "metadata": {
        "id": "POgkQjkF4Rai",
        "colab_type": "code",
        "colab": {}
      },
      "source": [
        "# Load the data files\n",
        "ds = xr.open_dataset(single_file)"
      ],
      "execution_count": 0,
      "outputs": []
    },
    {
      "cell_type": "markdown",
      "metadata": {
        "id": "M9480TKoLJ_A",
        "colab_type": "text"
      },
      "source": [
        "Remember, python notebooks will always print out the last line of a code block if just a variable is specified."
      ]
    },
    {
      "cell_type": "code",
      "metadata": {
        "id": "ucQSPx2NK29J",
        "colab_type": "code",
        "colab": {}
      },
      "source": [
        "# Let's find out what's in the file\n",
        "ds"
      ],
      "execution_count": 0,
      "outputs": []
    },
    {
      "cell_type": "markdown",
      "metadata": {
        "id": "ny3s2P_BLnYZ",
        "colab_type": "text"
      },
      "source": [
        "As you can see, there are a number of coordinates, variables and attributes (i.e. metadata) in the dataset we loaded.  "
      ]
    },
    {
      "cell_type": "markdown",
      "metadata": {
        "id": "QAZ3BiFRMATI",
        "colab_type": "text"
      },
      "source": [
        "**Important note:** By default, OOI datasets use the 'obs' variable as the index.  But obs is just an array of integers (i.e. 1,2,3,etc.) Time is more convenient for our purposes, so let's make time the default dimension.  In general, this is something you will always want to do when first loading OOI datasets."
      ]
    },
    {
      "cell_type": "code",
      "metadata": {
        "id": "88JhGdEtK4sa",
        "colab_type": "code",
        "colab": {}
      },
      "source": [
        "# Swap the dimensions\n",
        "ds = ds.swap_dims({'obs': 'time'})"
      ],
      "execution_count": 0,
      "outputs": []
    },
    {
      "cell_type": "markdown",
      "metadata": {
        "id": "mqXOTFdpv1OU",
        "colab_type": "text"
      },
      "source": [
        "### Selecting Variables and Metadata\n",
        "Thanks to xarray, we can easily access individual variables, the global metadata, and the metadata for individual variables. There are actually two ways you can do this...\n",
        "* `ds['dissolved_oxygen']`  <-- The preferred way (fewer errors)\n",
        "* `ds.dissolved_oxygen`\n",
        "\n",
        "You can refer to the full list of variables an attributes outputted above.\n",
        "\n",
        "Here are a few examples."
      ]
    },
    {
      "cell_type": "code",
      "metadata": {
        "id": "qCWi7FJ2L3cZ",
        "colab_type": "code",
        "colab": {}
      },
      "source": [
        "# A variable\n",
        "ds['dissolved_oxygen']"
      ],
      "execution_count": 0,
      "outputs": []
    },
    {
      "cell_type": "code",
      "metadata": {
        "id": "o34aefvnL6Rz",
        "colab_type": "code",
        "colab": {}
      },
      "source": [
        "# The units metadata field for a variable\n",
        "ds['dissolved_oxygen'].units"
      ],
      "execution_count": 0,
      "outputs": []
    },
    {
      "cell_type": "code",
      "metadata": {
        "id": "0ilsWSQLMUM2",
        "colab_type": "code",
        "colab": {}
      },
      "source": [
        "# A global metadata field\n",
        "ds.source"
      ],
      "execution_count": 0,
      "outputs": []
    },
    {
      "cell_type": "markdown",
      "metadata": {
        "id": "JWrbc52xMjYx",
        "colab_type": "text"
      },
      "source": [
        "In the next box, try accessing other variables or metadata fields.  Remember, you can use tab-complete to more easily find available items in the dataset."
      ]
    },
    {
      "cell_type": "code",
      "metadata": {
        "id": "qUssyAA0L_6J",
        "colab_type": "code",
        "colab": {}
      },
      "source": [
        "# Add your code here"
      ],
      "execution_count": 0,
      "outputs": []
    },
    {
      "cell_type": "markdown",
      "metadata": {
        "id": "XsQGyFhfiKbB",
        "colab_type": "text"
      },
      "source": [
        "## 4. Exporting Data\n",
        "\n",
        "* Xarray **Datasets** are great for loading and exporting NetCDF data, which are often multi-dimensional\n",
        "* Pandas **DataFrames** are great for doing the same with CSV datasets.  Think of an Excel spreadsheet containing columns of data, each with a header.\n",
        "\n",
        "So, to export our dataset so we can use it in another tool, we will first convert our xarray Dataset into a pandas DataFrame."
      ]
    },
    {
      "cell_type": "code",
      "metadata": {
        "id": "QD8P6QxoOWmD",
        "colab_type": "code",
        "colab": {}
      },
      "source": [
        "# Convert the xarray Dataset to a pandas DataFrame\n",
        "df = ds.to_dataframe()"
      ],
      "execution_count": 0,
      "outputs": []
    },
    {
      "cell_type": "markdown",
      "metadata": {
        "id": "EVlcJOBPOZ5V",
        "colab_type": "text"
      },
      "source": [
        "Let's take a look at the new variable we created to see how a Pandas DataFrame is different from the Xarray Dataset we loaded above.  \n",
        "\n",
        "To do so, we could just print out the variable *df*, but Pandas also has a nice function called `head()` that just gives us the first 5 rows."
      ]
    },
    {
      "cell_type": "code",
      "metadata": {
        "id": "NPk-OnOKOe7i",
        "colab_type": "code",
        "colab": {}
      },
      "source": [
        "df.head()"
      ],
      "execution_count": 0,
      "outputs": []
    },
    {
      "cell_type": "markdown",
      "metadata": {
        "id": "mnjX8y-IOUwy",
        "colab_type": "text"
      },
      "source": [
        "So now we can use the .to_csv() method to easily create a CSV file.  Once it's created, in Google Colab, you can view and download files in the left sidebar.\n"
      ]
    },
    {
      "cell_type": "code",
      "metadata": {
        "id": "eKtxMXBVD2un",
        "colab_type": "code",
        "colab": {}
      },
      "source": [
        "# Create a CSV file with the raw dataset\n",
        "df.to_csv('output.csv') "
      ],
      "execution_count": 0,
      "outputs": []
    },
    {
      "cell_type": "markdown",
      "metadata": {
        "id": "oJvy_hBfiKR5",
        "colab_type": "text"
      },
      "source": [
        "## 5. Quick Plots\n",
        "\n",
        "And now we can really start having some fun... \n",
        "\n",
        "To start, we can use the built in matplotlib plotting routines in xarray or pandas to make some plots."
      ]
    },
    {
      "cell_type": "code",
      "metadata": {
        "id": "drlAkJB37-eQ",
        "colab_type": "code",
        "colab": {}
      },
      "source": [
        "df['ctdmo_seawater_temperature'].plot();"
      ],
      "execution_count": 0,
      "outputs": []
    },
    {
      "cell_type": "markdown",
      "metadata": {
        "id": "5W-zCANgP6cJ",
        "colab_type": "text"
      },
      "source": [
        "In the next box, try plotting another variable."
      ]
    },
    {
      "cell_type": "code",
      "metadata": {
        "id": "UEtaHOHxP8Yd",
        "colab_type": "code",
        "colab": {}
      },
      "source": [
        "# Add your code here"
      ],
      "execution_count": 0,
      "outputs": []
    },
    {
      "cell_type": "markdown",
      "metadata": {
        "id": "buB7ylyD8OjI",
        "colab_type": "text"
      },
      "source": [
        "### We can also make a quick histogram"
      ]
    },
    {
      "cell_type": "code",
      "metadata": {
        "id": "Uzatr3dV4Rc-",
        "colab_type": "code",
        "colab": {}
      },
      "source": [
        "ds['ctdmo_seawater_temperature'].plot.hist(bins=100);"
      ],
      "execution_count": 0,
      "outputs": []
    },
    {
      "cell_type": "code",
      "metadata": {
        "id": "ueCnQXUlgGQV",
        "colab_type": "code",
        "colab": {}
      },
      "source": [
        "# Try another histogram here"
      ],
      "execution_count": 0,
      "outputs": []
    },
    {
      "cell_type": "markdown",
      "metadata": {
        "id": "KAmy5GC_8Spk",
        "colab_type": "text"
      },
      "source": [
        "### And we can plot a bunch of variables at once\n",
        "\n",
        "To do this, we also need to load the matplotlib library directly (even though it's already included in xarray) so we can create subplots."
      ]
    },
    {
      "cell_type": "code",
      "metadata": {
        "id": "cO28cq658W66",
        "colab_type": "code",
        "colab": {}
      },
      "source": [
        "import matplotlib.pyplot as plt"
      ],
      "execution_count": 0,
      "outputs": []
    },
    {
      "cell_type": "code",
      "metadata": {
        "id": "NfD0uf5t4Rfc",
        "colab_type": "code",
        "colab": {}
      },
      "source": [
        "fig, (ax1,ax2,ax3) = plt.subplots(3,1, sharex=True, figsize=(10,6))\n",
        "df['ctdmo_seawater_temperature'].plot(ax=ax1)\n",
        "df['practical_salinity'].plot(ax=ax2)\n",
        "df['dissolved_oxygen'].plot(ax=ax3);"
      ],
      "execution_count": 0,
      "outputs": []
    },
    {
      "cell_type": "markdown",
      "metadata": {
        "id": "S2IG6qjgA1_3",
        "colab_type": "text"
      },
      "source": [
        "Now it's your turn.  Try recreating the above plot, only this time, add a 4th subplot that includes the pressure variable.  (Note, it's not called pressure.)"
      ]
    },
    {
      "cell_type": "code",
      "metadata": {
        "id": "OY9V7sxKA1t7",
        "colab_type": "code",
        "colab": {}
      },
      "source": [
        "# Add your code here"
      ],
      "execution_count": 0,
      "outputs": []
    },
    {
      "cell_type": "markdown",
      "metadata": {
        "id": "eiQ-o6Lzd7d-",
        "colab_type": "text"
      },
      "source": [
        "### Going further..\n",
        "\n",
        "Modify your code above to include the following:\n",
        "\n",
        "1) You can add y-axis labels using the following line\n",
        "```\n",
        "ax2.set_ylabel(df['dissolved_oxygen'].name);\n",
        "\n",
        "```\n",
        "\n",
        "2) The salinity has some outliners.  We can change the y-limits to account for that, by adding the following line.\n",
        "```\n",
        "ax2.set_ylim(**min**,**max**);\n",
        "\n",
        "```\n",
        "\n",
        "3) You can also change the plot syle.  Try adding the following attributes to the plot functions.\n",
        "```\n",
        "linestyle='None', marker='.', markersize=1\n",
        "\n",
        "```\n"
      ]
    },
    {
      "cell_type": "markdown",
      "metadata": {
        "id": "ByMH6igaGKbk",
        "colab_type": "text"
      },
      "source": [
        "You should notice that the average pressure is just shy of 20m, but this instrument was supposed to be at 30m.  So what's up?  \n",
        "\n",
        "It turns out, for this deployment, the mooring was deployed 10-15m shallower that planned.  In this case, 30m was the *design depth,* but it's always a good idea to check the actual pressure measurements when possible."
      ]
    }
  ]
}