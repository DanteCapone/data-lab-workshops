{
  "nbformat": 4,
  "nbformat_minor": 0,
  "metadata": {
    "colab": {
      "name": "Python Basics.ipynb",
      "version": "0.3.2",
      "provenance": [],
      "toc_visible": true
    },
    "kernelspec": {
      "display_name": "Python 3",
      "language": "python",
      "name": "python3"
    }
  },
  "cells": [
    {
      "metadata": {
        "colab_type": "text",
        "id": "d4QNLHg06nPY",
        "slideshow": {
          "slide_type": "slide"
        }
      },
      "cell_type": "markdown",
      "source": [
        "# Python Basics for Undergraduate Oceanography Educators\n",
        "*Compiled by Sage Lichtenwalner, Rutgers University, February 14, 2019*\n",
        "\n",
        "Welcome to Python!\n",
        "\n",
        "In this example notebook, we will highlight some of the basics of programming in Python, along with a few tips and tricks for those familiar with Matlab. For additional tutorials, we encourage you to check out the additional resources at the bottom.\n",
        "\n",
        "This example was written in Google's Colaboratory environment, but it could be run in any [Jupyter Notebook](http://jupyter.org) environment whether locally on your machine or in the cloud.  You can also try these commands directly on the Python command line, though your results may vary.  \n",
        "\n",
        "For more information about Google Colab, check out their introductory notebooks, including:\n",
        "* [Hello, Colaboratory](https://colab.research.google.com/notebooks/welcome.ipynb) \n",
        "* [Overview of Colaboratory Features](https://colab.research.google.com/notebooks/basic_features_overview.ipynb)\n",
        "* [Charts in Colaboratory](https://colab.research.google.com/notebooks/charts.ipynb)"
      ]
    },
    {
      "metadata": {
        "colab_type": "text",
        "id": "An6oaKTN7_Le",
        "slideshow": {
          "slide_type": "slide"
        }
      },
      "cell_type": "markdown",
      "source": [
        "## Some Basics on Cells\n",
        "\n",
        "Jupyter notebooks have two kids of cells.  \"Markdown\" cells, like this one which can contain formatted text, and \"Code\" cells, which contain the code you will run.\n",
        "\n",
        "To execute the code in a cell, you can either:\n",
        "* click the **Play** icon on the left\n",
        "* type **Cmd (or Ctrl) + Enter** to run the cell in place \n",
        "* or type **Shift + Enter** to run the cell and move the focus to the next cell.\n",
        "\n",
        "You can try all these options in our first, very elaborate piece of code in the next cell."
      ]
    },
    {
      "metadata": {
        "colab_type": "code",
        "id": "5-29lQE-LRyL",
        "outputId": "fc2930ca-1cf6-43ec-bf11-00f9b0079042",
        "colab": {
          "base_uri": "https://localhost:8080/",
          "height": 34
        }
      },
      "cell_type": "code",
      "source": [
        "2+2"
      ],
      "execution_count": 0,
      "outputs": [
        {
          "output_type": "execute_result",
          "data": {
            "text/plain": [
              "4"
            ]
          },
          "metadata": {
            "tags": []
          },
          "execution_count": 1
        }
      ]
    },
    {
      "metadata": {
        "colab_type": "code",
        "id": "mcAoNbxaFJEH",
        "outputId": "e7975e13-641a-41d7-a392-d8a9e0a30250",
        "slideshow": {
          "slide_type": "slide"
        },
        "colab": {
          "base_uri": "https://localhost:8080/",
          "height": 34
        }
      },
      "cell_type": "code",
      "source": [
        "# We can eailsy assign variables\n",
        "x = 4\n",
        "\n",
        "# We can use the type() command to figure out what kind of object this is.\n",
        "type(x)"
      ],
      "execution_count": 0,
      "outputs": [
        {
          "output_type": "execute_result",
          "data": {
            "text/plain": [
              "int"
            ]
          },
          "metadata": {
            "tags": []
          },
          "execution_count": 2
        }
      ]
    },
    {
      "metadata": {
        "colab_type": "code",
        "id": "mkLng08dFfh4",
        "outputId": "b08335d2-d509-4a61-d7b5-0e018ca7e364",
        "slideshow": {
          "slide_type": "slide"
        },
        "colab": {
          "base_uri": "https://localhost:8080/",
          "height": 34
        }
      },
      "cell_type": "code",
      "source": [
        "# And now let's create a Float \n",
        "y = 1.25\n",
        "type(y)"
      ],
      "execution_count": 0,
      "outputs": [
        {
          "output_type": "execute_result",
          "data": {
            "text/plain": [
              "float"
            ]
          },
          "metadata": {
            "tags": []
          },
          "execution_count": 3
        }
      ]
    },
    {
      "metadata": {
        "colab_type": "code",
        "id": "8M-GN9kvGXOI",
        "outputId": "9e0252cb-e36e-4674-f999-fd668633eb34",
        "colab": {
          "base_uri": "https://localhost:8080/",
          "height": 34
        }
      },
      "cell_type": "code",
      "source": [
        "# Strings can also be assigned to variables\n",
        "z = 'Python is great'\n",
        "type(z)"
      ],
      "execution_count": 0,
      "outputs": [
        {
          "output_type": "execute_result",
          "data": {
            "text/plain": [
              "str"
            ]
          },
          "metadata": {
            "tags": []
          },
          "execution_count": 4
        }
      ]
    },
    {
      "metadata": {
        "colab_type": "code",
        "id": "rbULmpXCFJIZ",
        "outputId": "d8ee5a4d-7cd2-4aa9-f73f-a88f031752c3",
        "slideshow": {
          "slide_type": "slide"
        },
        "colab": {
          "base_uri": "https://localhost:8080/",
          "height": 51
        }
      },
      "cell_type": "code",
      "source": [
        "# And we can do some basic math\n",
        "print( x + y )\n",
        "print( x/y )"
      ],
      "execution_count": 0,
      "outputs": [
        {
          "output_type": "stream",
          "text": [
            "5.25\n",
            "3.2\n"
          ],
          "name": "stdout"
        }
      ]
    },
    {
      "metadata": {
        "colab_type": "text",
        "id": "i4k796DieJ0_"
      },
      "cell_type": "markdown",
      "source": [
        "**A note about print()**(\n",
        "\n",
        "By default the Colab/Jupyter environment will print out the output from the last line without having to specify the `print` command.  However, if we want to output the results from additional lines (as we did above), we need to use `print()` on each line.  Note that Python 3 requires parentheses around the print command, but it is optional in Python 2.\n",
        "\n",
        "Sometimes, we will want to suppress the output from the last line, which we can easily do by adding a semi-colon \"`;`\" at the end."
      ]
    },
    {
      "metadata": {
        "colab_type": "text",
        "id": "orHJ8GIUGgGb",
        "slideshow": {
          "slide_type": "slide"
        }
      },
      "cell_type": "markdown",
      "source": [
        "## Beware of type conflicts\n",
        "\n",
        "Sometimes the result you expect is not what you get.  That's especially the case when mixing object types, like integers and floats, or numbers and strings.  There are also differences depending on which Python version you are running.   You can switch Python versions by going to *Runtime -> Change runtime type* in the menu. "
      ]
    },
    {
      "metadata": {
        "colab_type": "code",
        "id": "_UHcn8VGFJMB",
        "outputId": "0f40b2c7-a88b-48d5-e0f1-a78d9f98e30a",
        "colab": {
          "base_uri": "https://localhost:8080/",
          "height": 68
        }
      },
      "cell_type": "code",
      "source": [
        "# Dividing two ints results in an int\n",
        "print( 21/3 ) # Two integers\n",
        "print( 23/3 ) # In Python 2 the (incorrect) result is an integer. In Python 3 this works as expected.\n",
        "print( 23.0/3.0 ) # Two floats results in a float"
      ],
      "execution_count": 0,
      "outputs": [
        {
          "output_type": "stream",
          "text": [
            "7.0\n",
            "7.666666666666667\n",
            "7.666666666666667\n"
          ],
          "name": "stdout"
        }
      ]
    },
    {
      "metadata": {
        "colab_type": "code",
        "id": "IGtw_babGjrI",
        "outputId": "cde7957e-6e60-4089-f2c0-a8c8e9f7347c",
        "slideshow": {
          "slide_type": "slide"
        },
        "colab": {
          "base_uri": "https://localhost:8080/",
          "height": 164
        }
      },
      "cell_type": "code",
      "source": [
        "# You can't concatenate strings and ints.  This will throw an error...\n",
        "print( z + x )"
      ],
      "execution_count": 0,
      "outputs": [
        {
          "output_type": "error",
          "ename": "TypeError",
          "evalue": "ignored",
          "traceback": [
            "\u001b[0;31m---------------------------------------------------------------------------\u001b[0m",
            "\u001b[0;31mTypeError\u001b[0m                                 Traceback (most recent call last)",
            "\u001b[0;32m<ipython-input-7-46cb8bf52bc5>\u001b[0m in \u001b[0;36m<module>\u001b[0;34m()\u001b[0m\n\u001b[0;32m----> 1\u001b[0;31m \u001b[0mprint\u001b[0m\u001b[0;34m(\u001b[0m \u001b[0mz\u001b[0m \u001b[0;34m+\u001b[0m \u001b[0mx\u001b[0m \u001b[0;34m)\u001b[0m\u001b[0;34m\u001b[0m\u001b[0;34m\u001b[0m\u001b[0m\n\u001b[0m",
            "\u001b[0;31mTypeError\u001b[0m: must be str, not int"
          ]
        }
      ]
    },
    {
      "metadata": {
        "colab_type": "code",
        "id": "rM6bosozKpXq",
        "outputId": "c486d1cf-61e8-43f8-b8be-2b79a58d2eee",
        "slideshow": {
          "slide_type": "fragment"
        },
        "colab": {
          "base_uri": "https://localhost:8080/",
          "height": 34
        }
      },
      "cell_type": "code",
      "source": [
        "# But interestinlgy, you can multiply them\n",
        "print( z * x )"
      ],
      "execution_count": 0,
      "outputs": [
        {
          "output_type": "stream",
          "text": [
            "Python is greatPython is greatPython is greatPython is great\n"
          ],
          "name": "stdout"
        }
      ]
    },
    {
      "metadata": {
        "colab_type": "code",
        "id": "-4d39NFwFJPV",
        "outputId": "ea3d5696-ea78-4dc3-a7d9-615533dfc04a",
        "slideshow": {
          "slide_type": "slide"
        },
        "colab": {
          "base_uri": "https://localhost:8080/",
          "height": 34
        }
      },
      "cell_type": "code",
      "source": [
        "# We can convert an int into a string\n",
        "print( z + ' ' + str(x) + ' you' )"
      ],
      "execution_count": 0,
      "outputs": [
        {
          "output_type": "stream",
          "text": [
            "Python is great 4 you\n"
          ],
          "name": "stdout"
        }
      ]
    },
    {
      "metadata": {
        "colab_type": "code",
        "id": "74GTd4WnFJSk",
        "outputId": "0f0a4c03-ded5-45cc-9962-f430acbbbeb7",
        "slideshow": {
          "slide_type": "fragment"
        },
        "colab": {
          "base_uri": "https://localhost:8080/",
          "height": 34
        }
      },
      "cell_type": "code",
      "source": [
        "# But here's an even better way\n",
        "print( 'Python is great %s you' % x )"
      ],
      "execution_count": 0,
      "outputs": [
        {
          "output_type": "stream",
          "text": [
            "Python is great 4 you\n"
          ],
          "name": "stdout"
        }
      ]
    },
    {
      "metadata": {
        "colab_type": "text",
        "id": "3HdSyw3bHmyG",
        "slideshow": {
          "slide_type": "slide"
        }
      },
      "cell_type": "markdown",
      "source": [
        "## Fun with Lists"
      ]
    },
    {
      "metadata": {
        "colab_type": "code",
        "id": "XC1RvchhFJWj",
        "slideshow": {
          "slide_type": "fragment"
        },
        "colab": {}
      },
      "cell_type": "code",
      "source": [
        "my_list = [3, 4, 5, 9, 12]"
      ],
      "execution_count": 0,
      "outputs": []
    },
    {
      "metadata": {
        "colab_type": "text",
        "id": "YJHVvATWcJPo"
      },
      "cell_type": "markdown",
      "source": [
        "Remember, Python uses 0-based indexing, so to grab the first element you use \"0\", and the last element would n-1.  (Whereas in Matlab you would use 1 to n.)"
      ]
    },
    {
      "metadata": {
        "colab_type": "code",
        "id": "OPANp_LKHsVu",
        "outputId": "77a360b0-0508-4dd5-b6b9-ba142ac276bd",
        "slideshow": {
          "slide_type": "fragment"
        },
        "colab": {
          "base_uri": "https://localhost:8080/",
          "height": 34
        }
      },
      "cell_type": "code",
      "source": [
        "# The fist item\n",
        "my_list[0]"
      ],
      "execution_count": 0,
      "outputs": [
        {
          "output_type": "execute_result",
          "data": {
            "text/plain": [
              "3"
            ]
          },
          "metadata": {
            "tags": []
          },
          "execution_count": 12
        }
      ]
    },
    {
      "metadata": {
        "id": "8l0qY0vfEV7v",
        "colab_type": "code",
        "outputId": "70db1bff-bc32-4a9e-ce89-2550bf82d4ff",
        "colab": {
          "base_uri": "https://localhost:8080/",
          "height": 34
        }
      },
      "cell_type": "code",
      "source": [
        "# How long is the list\n",
        "len(my_list)"
      ],
      "execution_count": 0,
      "outputs": [
        {
          "output_type": "execute_result",
          "data": {
            "text/plain": [
              "5"
            ]
          },
          "metadata": {
            "tags": []
          },
          "execution_count": 13
        }
      ]
    },
    {
      "metadata": {
        "id": "1BhBO9nKEj1m",
        "colab_type": "code",
        "outputId": "bfa084bd-710b-435e-c2f1-c5f5cd1c52a2",
        "colab": {
          "base_uri": "https://localhost:8080/",
          "height": 34
        }
      },
      "cell_type": "code",
      "source": [
        "# The last item\n",
        "my_list[len(my_list)-1]"
      ],
      "execution_count": 0,
      "outputs": [
        {
          "output_type": "execute_result",
          "data": {
            "text/plain": [
              "12"
            ]
          },
          "metadata": {
            "tags": []
          },
          "execution_count": 14
        }
      ]
    },
    {
      "metadata": {
        "colab_type": "code",
        "id": "rFUURuohHsZF",
        "outputId": "898bcc3b-6ebd-4292-e0ab-2449e9ff5f54",
        "slideshow": {
          "slide_type": "fragment"
        },
        "colab": {
          "base_uri": "https://localhost:8080/",
          "height": 34
        }
      },
      "cell_type": "code",
      "source": [
        "# A better way to grab the last item (equivalent to 'end' in Matlab)\n",
        "my_list[-1]"
      ],
      "execution_count": 0,
      "outputs": [
        {
          "output_type": "execute_result",
          "data": {
            "text/plain": [
              "12"
            ]
          },
          "metadata": {
            "tags": []
          },
          "execution_count": 15
        }
      ]
    },
    {
      "metadata": {
        "colab_type": "code",
        "id": "ZTwGl-knHwHq",
        "outputId": "b6d52ac8-58d5-43dc-c098-0dd902326015",
        "slideshow": {
          "slide_type": "slide"
        },
        "colab": {
          "base_uri": "https://localhost:8080/",
          "height": 34
        }
      },
      "cell_type": "code",
      "source": [
        "# Extract a subset\n",
        "my_list[2:4]"
      ],
      "execution_count": 0,
      "outputs": [
        {
          "output_type": "execute_result",
          "data": {
            "text/plain": [
              "[5, 9]"
            ]
          },
          "metadata": {
            "tags": []
          },
          "execution_count": 16
        }
      ]
    },
    {
      "metadata": {
        "colab_type": "code",
        "id": "GW_TT32XIDS_",
        "outputId": "17aaf67f-05c2-4164-c514-a2881072c005",
        "slideshow": {
          "slide_type": "slide"
        },
        "colab": {
          "base_uri": "https://localhost:8080/",
          "height": 34
        }
      },
      "cell_type": "code",
      "source": [
        "# Update a value\n",
        "my_list[3] = 99\n",
        "my_list"
      ],
      "execution_count": 0,
      "outputs": [
        {
          "output_type": "execute_result",
          "data": {
            "text/plain": [
              "[3, 4, 5, 99, 12]"
            ]
          },
          "metadata": {
            "tags": []
          },
          "execution_count": 17
        }
      ]
    },
    {
      "metadata": {
        "colab_type": "code",
        "id": "1Dbw-ivOHsc8",
        "outputId": "19a658b8-611f-4289-d62d-8cab2c45da17",
        "slideshow": {
          "slide_type": "slide"
        },
        "colab": {
          "base_uri": "https://localhost:8080/",
          "height": 68
        }
      },
      "cell_type": "code",
      "source": [
        "# Warning, Python variables are object references and not copies by default\n",
        "my_second_list = my_list\n",
        "print( my_second_list )\n",
        "\n",
        "my_second_list[0] = 66\n",
        "print( my_second_list )\n",
        "print( my_list ) # The first list has been overwritten"
      ],
      "execution_count": 0,
      "outputs": [
        {
          "output_type": "stream",
          "text": [
            "[3, 4, 5, 99, 12]\n",
            "[66, 4, 5, 99, 12]\n",
            "[66, 4, 5, 99, 12]\n"
          ],
          "name": "stdout"
        }
      ]
    },
    {
      "metadata": {
        "colab_type": "code",
        "id": "PRVQpgaJIWuW",
        "outputId": "fb1fdd4d-19d3-43bc-dd59-9bc2c659bc1b",
        "slideshow": {
          "slide_type": "slide"
        },
        "colab": {
          "base_uri": "https://localhost:8080/",
          "height": 51
        }
      },
      "cell_type": "code",
      "source": [
        "# To avoid this, create a copy of the list, which keeps the original intact\n",
        "my_list = [3, 4, 5, 9, 12]\n",
        "my_second_list = list(my_list) # You can also use copy.copy() or my_list[:]\n",
        "\n",
        "my_second_list[0] = 66\n",
        "print( my_second_list )\n",
        "print( my_list )"
      ],
      "execution_count": 0,
      "outputs": [
        {
          "output_type": "stream",
          "text": [
            "[66, 4, 5, 9, 12]\n",
            "[3, 4, 5, 9, 12]\n"
          ],
          "name": "stdout"
        }
      ]
    },
    {
      "metadata": {
        "colab_type": "text",
        "id": "SoXxwrfKI69_",
        "slideshow": {
          "slide_type": "slide"
        }
      },
      "cell_type": "markdown",
      "source": [
        "## Dictionaries\n",
        "Dictionaries are a way to store named/value pairs of variables. Dictionaries can actually be nested ad infinitum (which isn't recommended).  So a dictionary variable can be an integer, string, list or even another dictionary."
      ]
    },
    {
      "metadata": {
        "colab_type": "code",
        "id": "nqwCadXuI8UQ",
        "outputId": "a6225843-242c-4a3d-cfd1-774c5794d518",
        "colab": {
          "base_uri": "https://localhost:8080/",
          "height": 34
        }
      },
      "cell_type": "code",
      "source": [
        "my_dict = {'temperature': 21, 'salinity':35, 'sensor':'CTD 23'}\n",
        "my_dict"
      ],
      "execution_count": 0,
      "outputs": [
        {
          "output_type": "execute_result",
          "data": {
            "text/plain": [
              "{'salinity': 35, 'sensor': 'CTD 23', 'temperature': 21}"
            ]
          },
          "metadata": {
            "tags": []
          },
          "execution_count": 20
        }
      ]
    },
    {
      "metadata": {
        "colab_type": "code",
        "id": "aIOWIErZJOIl",
        "outputId": "d27a3592-3ecb-4bba-c99f-c3fa6219ca80",
        "slideshow": {
          "slide_type": "fragment"
        },
        "colab": {
          "base_uri": "https://localhost:8080/",
          "height": 34
        }
      },
      "cell_type": "code",
      "source": [
        "# Accessing a key/value pair\n",
        "my_dict['sensor']"
      ],
      "execution_count": 0,
      "outputs": [
        {
          "output_type": "execute_result",
          "data": {
            "text/plain": [
              "'CTD 23'"
            ]
          },
          "metadata": {
            "tags": []
          },
          "execution_count": 21
        }
      ]
    },
    {
      "metadata": {
        "colab_type": "code",
        "id": "f21eZxc4JYSI",
        "outputId": "e818fc27-2d81-4226-ad74-fe4c6594de49",
        "slideshow": {
          "slide_type": "slide"
        },
        "colab": {
          "base_uri": "https://localhost:8080/",
          "height": 34
        }
      },
      "cell_type": "code",
      "source": [
        "# Grab a list of dictionary keys\n",
        "my_dict.keys()"
      ],
      "execution_count": 0,
      "outputs": [
        {
          "output_type": "execute_result",
          "data": {
            "text/plain": [
              "dict_keys(['temperature', 'salinity', 'sensor'])"
            ]
          },
          "metadata": {
            "tags": []
          },
          "execution_count": 22
        }
      ]
    },
    {
      "metadata": {
        "colab_type": "text",
        "id": "W-zF-yXvW-1r",
        "slideshow": {
          "slide_type": "slide"
        }
      },
      "cell_type": "markdown",
      "source": [
        "## Functions, Conditions and Loops\n",
        "If you're familiar with how to do these in Matlab or R, it's all very similar, just with a different syntax.  Remember, Python uses spaces to group together sub-elements, rather than parentheses, curly braces, or end statements.  It makes it a little easier to read, and you don't have to keep track of parentheses, but you do need to get the spacing right.  And don't forget the colon at the end of the first line.  Traditionally, you can use 2 or 4 spaces to indent lines."
      ]
    },
    {
      "metadata": {
        "colab_type": "code",
        "id": "WYpQMyh1W__m",
        "colab": {}
      },
      "cell_type": "code",
      "source": [
        "def my_func(number):\n",
        "  print('Running my_func:')\n",
        "  if type(number)==int:\n",
        "    for i in range(number):\n",
        "      print(i)\n",
        "  else:\n",
        "    print(\"Not a number\")\n"
      ],
      "execution_count": 0,
      "outputs": []
    },
    {
      "metadata": {
        "id": "47IemjwGFPo6",
        "colab_type": "code",
        "outputId": "194b26ab-fff3-43e3-8ff4-5320258e0348",
        "colab": {
          "base_uri": "https://localhost:8080/",
          "height": 102
        }
      },
      "cell_type": "code",
      "source": [
        "my_func(4)"
      ],
      "execution_count": 0,
      "outputs": [
        {
          "output_type": "stream",
          "text": [
            "Running my_func:\n",
            "0\n",
            "1\n",
            "2\n",
            "3\n"
          ],
          "name": "stdout"
        }
      ]
    },
    {
      "metadata": {
        "id": "dbKQSWGgFQug",
        "colab_type": "code",
        "outputId": "b46bea93-e52d-4c72-cd8d-49a0ec4f5ff1",
        "colab": {
          "base_uri": "https://localhost:8080/",
          "height": 51
        }
      },
      "cell_type": "code",
      "source": [
        "my_func('hi')"
      ],
      "execution_count": 0,
      "outputs": [
        {
          "output_type": "stream",
          "text": [
            "Running my_func:\n",
            "Not a number\n"
          ],
          "name": "stdout"
        }
      ]
    },
    {
      "metadata": {
        "colab_type": "text",
        "id": "HGGLpgTuJqO3",
        "slideshow": {
          "slide_type": "slide"
        }
      },
      "cell_type": "markdown",
      "source": [
        "## NumPy\n",
        "[NumPy](http://www.numpy.org) is an essential library for working with scientific data.  It provides an array object that is very similar to Matlab's array functionality, allowing you to perform mathematical calculations or run linear algebra routines."
      ]
    },
    {
      "metadata": {
        "colab_type": "code",
        "id": "RgbHEs9sMTye",
        "colab": {}
      },
      "cell_type": "code",
      "source": [
        "import numpy as np"
      ],
      "execution_count": 0,
      "outputs": []
    },
    {
      "metadata": {
        "colab_type": "code",
        "id": "J5QovFhQMfPd",
        "outputId": "ac5f40b2-179e-41e0-dbf1-5342c992ab09",
        "slideshow": {
          "slide_type": "slide"
        },
        "colab": {
          "base_uri": "https://localhost:8080/",
          "height": 68
        }
      },
      "cell_type": "code",
      "source": [
        "# NumPy has its own data types\n",
        "xi = np.array([1, 2, 3], dtype=np.int) # We could also specify np.float\n",
        "print(xi)\n",
        "print(type(xi))\n",
        "print(xi.dtype)"
      ],
      "execution_count": 0,
      "outputs": [
        {
          "output_type": "stream",
          "text": [
            "[1 2 3]\n",
            "<class 'numpy.ndarray'>\n",
            "int64\n"
          ],
          "name": "stdout"
        }
      ]
    },
    {
      "metadata": {
        "colab_type": "code",
        "id": "CB81YTcTbo4_",
        "outputId": "38217006-52a0-4671-d4cf-95d2193808ba",
        "slideshow": {
          "slide_type": "slide"
        },
        "colab": {
          "base_uri": "https://localhost:8080/",
          "height": 34
        }
      },
      "cell_type": "code",
      "source": [
        "# Let's add the arrays\n",
        "xi+xi"
      ],
      "execution_count": 0,
      "outputs": [
        {
          "output_type": "execute_result",
          "data": {
            "text/plain": [
              "array([2, 4, 6])"
            ]
          },
          "metadata": {
            "tags": []
          },
          "execution_count": 28
        }
      ]
    },
    {
      "metadata": {
        "colab_type": "code",
        "id": "vj7-jFpDbwct",
        "outputId": "414647a6-1576-4132-813a-7efb5ea930e7",
        "slideshow": {
          "slide_type": "fragment"
        },
        "colab": {
          "base_uri": "https://localhost:8080/",
          "height": 34
        }
      },
      "cell_type": "code",
      "source": [
        "# Multiplication is easy too.  \n",
        "# Note this is equivalent to xi.*xi in Matlab\n",
        "xi*xi"
      ],
      "execution_count": 0,
      "outputs": [
        {
          "output_type": "execute_result",
          "data": {
            "text/plain": [
              "array([1, 4, 9])"
            ]
          },
          "metadata": {
            "tags": []
          },
          "execution_count": 29
        }
      ]
    },
    {
      "metadata": {
        "colab_type": "code",
        "id": "EMRCcHk8frOb",
        "outputId": "ff4e5c8b-f869-441b-9c7d-124347f6d27b",
        "colab": {
          "base_uri": "https://localhost:8080/",
          "height": 34
        }
      },
      "cell_type": "code",
      "source": [
        "# Inner product\n",
        "# Matlab equivalent: x*x'\n",
        "np.inner(xi,xi)"
      ],
      "execution_count": 0,
      "outputs": [
        {
          "output_type": "execute_result",
          "data": {
            "text/plain": [
              "14"
            ]
          },
          "metadata": {
            "tags": []
          },
          "execution_count": 30
        }
      ]
    },
    {
      "metadata": {
        "colab_type": "code",
        "id": "fi8FEKC-fss0",
        "outputId": "4c7ff3dc-544a-4a3b-cbe0-4e355af2a2d0",
        "colab": {
          "base_uri": "https://localhost:8080/",
          "height": 68
        }
      },
      "cell_type": "code",
      "source": [
        "# Outer product\n",
        "# Matlab equivalent: x'*x\n",
        "np.outer(xi,xi)"
      ],
      "execution_count": 0,
      "outputs": [
        {
          "output_type": "execute_result",
          "data": {
            "text/plain": [
              "array([[1, 2, 3],\n",
              "       [2, 4, 6],\n",
              "       [3, 6, 9]])"
            ]
          },
          "metadata": {
            "tags": []
          },
          "execution_count": 31
        }
      ]
    },
    {
      "metadata": {
        "colab_type": "code",
        "id": "b_c7zv5Ee_Ls",
        "outputId": "67f588c5-4980-4003-eb23-2081019ec008",
        "colab": {
          "base_uri": "https://localhost:8080/",
          "height": 34
        }
      },
      "cell_type": "code",
      "source": [
        "# Cross product\n",
        "np.cross(xi,xi)"
      ],
      "execution_count": 0,
      "outputs": [
        {
          "output_type": "execute_result",
          "data": {
            "text/plain": [
              "array([0, 0, 0])"
            ]
          },
          "metadata": {
            "tags": []
          },
          "execution_count": 32
        }
      ]
    },
    {
      "metadata": {
        "colab_type": "code",
        "id": "HwZAlZe7MT1I",
        "outputId": "3ec6919d-c2a4-48bd-81e1-3ea363dc2278",
        "slideshow": {
          "slide_type": "slide"
        },
        "colab": {
          "base_uri": "https://localhost:8080/",
          "height": 85
        }
      },
      "cell_type": "code",
      "source": [
        "# Initialize an array of zeros\n",
        "x = np.zeros(shape=(4,5))\n",
        "x"
      ],
      "execution_count": 0,
      "outputs": [
        {
          "output_type": "execute_result",
          "data": {
            "text/plain": [
              "array([[0., 0., 0., 0., 0.],\n",
              "       [0., 0., 0., 0., 0.],\n",
              "       [0., 0., 0., 0., 0.],\n",
              "       [0., 0., 0., 0., 0.]])"
            ]
          },
          "metadata": {
            "tags": []
          },
          "execution_count": 33
        }
      ]
    },
    {
      "metadata": {
        "colab_type": "code",
        "id": "lUMc4VtAMT3Y",
        "outputId": "35c79bf0-eaca-493c-ad82-d257a7504b88",
        "slideshow": {
          "slide_type": "fragment"
        },
        "colab": {
          "base_uri": "https://localhost:8080/",
          "height": 85
        }
      },
      "cell_type": "code",
      "source": [
        "# Now let's add 2 to every element in that array\n",
        "y = x+2\n",
        "y"
      ],
      "execution_count": 0,
      "outputs": [
        {
          "output_type": "execute_result",
          "data": {
            "text/plain": [
              "array([[2., 2., 2., 2., 2.],\n",
              "       [2., 2., 2., 2., 2.],\n",
              "       [2., 2., 2., 2., 2.],\n",
              "       [2., 2., 2., 2., 2.]])"
            ]
          },
          "metadata": {
            "tags": []
          },
          "execution_count": 34
        }
      ]
    },
    {
      "metadata": {
        "colab_type": "code",
        "id": "rznlVs4qiX7N",
        "outputId": "d5a31f91-d0f2-42d2-9db0-7d8749ee28cf",
        "slideshow": {
          "slide_type": "slide"
        },
        "colab": {
          "base_uri": "https://localhost:8080/",
          "height": 85
        }
      },
      "cell_type": "code",
      "source": [
        "# Array dimensions\n",
        "print( xi.shape )\n",
        "print( xi.size )\n",
        "print( y.shape )\n",
        "print( y.size )"
      ],
      "execution_count": 0,
      "outputs": [
        {
          "output_type": "stream",
          "text": [
            "(3,)\n",
            "3\n",
            "(4, 5)\n",
            "20\n"
          ],
          "name": "stdout"
        }
      ]
    },
    {
      "metadata": {
        "colab_type": "code",
        "id": "mSy2pWymMT5z",
        "outputId": "5aadcb35-5176-4a1e-bdc1-e2f421d64928",
        "slideshow": {
          "slide_type": "slide"
        },
        "colab": {
          "base_uri": "https://localhost:8080/",
          "height": 85
        }
      },
      "cell_type": "code",
      "source": [
        "# We can also create an array of Random numbers\n",
        "z = np.round(np.random.random(x.shape)*5)\n",
        "z"
      ],
      "execution_count": 0,
      "outputs": [
        {
          "output_type": "execute_result",
          "data": {
            "text/plain": [
              "array([[4., 1., 2., 0., 2.],\n",
              "       [5., 0., 0., 1., 1.],\n",
              "       [2., 1., 0., 5., 5.],\n",
              "       [4., 2., 1., 2., 5.]])"
            ]
          },
          "metadata": {
            "tags": []
          },
          "execution_count": 36
        }
      ]
    },
    {
      "metadata": {
        "colab_type": "code",
        "id": "r8XfChg2MfLr",
        "outputId": "5b977f4b-ea77-4392-fb42-0d22cf22d8c8",
        "slideshow": {
          "slide_type": "slide"
        },
        "colab": {
          "base_uri": "https://localhost:8080/",
          "height": 51
        }
      },
      "cell_type": "code",
      "source": [
        "# Slice out a subset of the array\n",
        "z[2:4, ::2] # Extract 2-4 on the first axis (columns), stride of 2 on the second axis(rows)"
      ],
      "execution_count": 0,
      "outputs": [
        {
          "output_type": "execute_result",
          "data": {
            "text/plain": [
              "array([[2., 0., 5.],\n",
              "       [4., 1., 5.]])"
            ]
          },
          "metadata": {
            "tags": []
          },
          "execution_count": 37
        }
      ]
    },
    {
      "metadata": {
        "colab_type": "code",
        "id": "yCnDA7_9MT_c",
        "outputId": "04008bbc-0e52-47a0-abc1-bee2f403568b",
        "slideshow": {
          "slide_type": "slide"
        },
        "colab": {
          "base_uri": "https://localhost:8080/",
          "height": 34
        }
      },
      "cell_type": "code",
      "source": [
        "# Sum the rows\n",
        "z_sum = z.sum(axis=1)\n",
        "z_sum"
      ],
      "execution_count": 0,
      "outputs": [
        {
          "output_type": "execute_result",
          "data": {
            "text/plain": [
              "array([ 9.,  7., 13., 14.])"
            ]
          },
          "metadata": {
            "tags": []
          },
          "execution_count": 38
        }
      ]
    },
    {
      "metadata": {
        "colab_type": "code",
        "id": "fbQk-FXSMfJf",
        "outputId": "5b0ac597-5702-4522-abf5-90b193612fe7",
        "slideshow": {
          "slide_type": "slide"
        },
        "colab": {
          "base_uri": "https://localhost:8080/",
          "height": 102
        }
      },
      "cell_type": "code",
      "source": [
        "# Matrix multiplication\n",
        "y.transpose() * z_sum"
      ],
      "execution_count": 0,
      "outputs": [
        {
          "output_type": "execute_result",
          "data": {
            "text/plain": [
              "array([[18., 14., 26., 28.],\n",
              "       [18., 14., 26., 28.],\n",
              "       [18., 14., 26., 28.],\n",
              "       [18., 14., 26., 28.],\n",
              "       [18., 14., 26., 28.]])"
            ]
          },
          "metadata": {
            "tags": []
          },
          "execution_count": 39
        }
      ]
    },
    {
      "metadata": {
        "id": "5dlryOY3G88o",
        "colab_type": "text"
      },
      "cell_type": "markdown",
      "source": [
        "Several [universal functions](https://docs.scipy.org/doc/numpy/user/quickstart.html#universal-functions) are included in numpy (e.g. sin, cos, exp)"
      ]
    },
    {
      "metadata": {
        "colab_type": "code",
        "id": "KVqJK5ItMfTz",
        "outputId": "11b1399a-35ea-4942-fb31-8775bf9ba3a3",
        "slideshow": {
          "slide_type": "slide"
        },
        "colab": {
          "base_uri": "https://localhost:8080/",
          "height": 34
        }
      },
      "cell_type": "code",
      "source": [
        "np.sin(z_sum)"
      ],
      "execution_count": 0,
      "outputs": [
        {
          "output_type": "execute_result",
          "data": {
            "text/plain": [
              "array([0.41211849, 0.6569866 , 0.42016704, 0.99060736])"
            ]
          },
          "metadata": {
            "tags": []
          },
          "execution_count": 40
        }
      ]
    },
    {
      "metadata": {
        "id": "6vtooJThHF0F",
        "colab_type": "text"
      },
      "cell_type": "markdown",
      "source": [
        "For more, check out the [NumPy Quickstart tutorial](https://docs.scipy.org/doc/numpy/user/quickstart.html)."
      ]
    },
    {
      "metadata": {
        "colab_type": "text",
        "id": "rjT_Lud-JrK_",
        "slideshow": {
          "slide_type": "slide"
        }
      },
      "cell_type": "markdown",
      "source": [
        "## SciPy\n",
        "The SciPy library includes a huge collection of mathematical algorithms, functions and constants to enable scientific computing.  \n",
        "\n",
        "It is build upon NumPy, so data is typically expected to be in a NumPy array format.  Some useful features include:\n",
        "* **constants** - Physical and mathematical constants\n",
        "* **fftpack** - Fast Fourier Transorms\n",
        "* **integrate** - Integration and ODE solvers\n",
        "* **interpolate** - Interpolation and smoothing\n",
        "* **io** - File Input and Output\n",
        "* **linalg** - Linear algebra\n",
        "* **signal** - Signal processing\n",
        "* **stats** - Statistics\n",
        "\n",
        "For more information, check out the [SciPy Tutorial](https://docs.scipy.org/doc/scipy/reference/tutorial/index.html)\n"
      ]
    },
    {
      "metadata": {
        "colab_type": "text",
        "id": "Aah8lhgyJtu_",
        "slideshow": {
          "slide_type": "slide"
        }
      },
      "cell_type": "markdown",
      "source": [
        "## Pandas\n",
        "[Pandas](https://pandas.pydata.org) is great for working with spreadsheet like tables, like Excel or CSV files.  \n",
        "\n",
        "However, it is not great for multidimensional arrays (e.g. x,y,z,t).  For that you should use [Xarray](http://xarray.pydata.org).\n",
        "\n",
        "For this example, we will demonstrate the power of pandas to quickly load a datafile and play with ut using some archived meteorological data from [NDBC 44025](http://www.ndbc.noaa.gov/station_history.php?station=44025)."
      ]
    },
    {
      "metadata": {
        "colab_type": "code",
        "id": "9SximVYnJtSK",
        "colab": {}
      },
      "cell_type": "code",
      "source": [
        "import pandas as pd"
      ],
      "execution_count": 0,
      "outputs": []
    },
    {
      "metadata": {
        "colab_type": "code",
        "id": "f7DysKQEMfWS",
        "slideshow": {
          "slide_type": "slide"
        },
        "colab": {}
      },
      "cell_type": "code",
      "source": [
        "url = 'http://www.ndbc.noaa.gov/view_text_file.php?filename=44025h2017.txt.gz&dir=data/historical/stdmet/'\n",
        "ndbc = pd.read_csv(url,sep='\\s+',skiprows=[1]) # We skip the second row in the file which contains units."
      ],
      "execution_count": 0,
      "outputs": []
    },
    {
      "metadata": {
        "colab_type": "code",
        "id": "jJ3ZbPv5cUTi",
        "outputId": "4b385ff1-9c5f-4c53-b67e-d6bbe95e30ff",
        "slideshow": {
          "slide_type": "fragment"
        },
        "colab": {
          "base_uri": "https://localhost:8080/",
          "height": 204
        }
      },
      "cell_type": "code",
      "source": [
        "ndbc.head()"
      ],
      "execution_count": 0,
      "outputs": [
        {
          "output_type": "execute_result",
          "data": {
            "text/html": [
              "<div>\n",
              "<style scoped>\n",
              "    .dataframe tbody tr th:only-of-type {\n",
              "        vertical-align: middle;\n",
              "    }\n",
              "\n",
              "    .dataframe tbody tr th {\n",
              "        vertical-align: top;\n",
              "    }\n",
              "\n",
              "    .dataframe thead th {\n",
              "        text-align: right;\n",
              "    }\n",
              "</style>\n",
              "<table border=\"1\" class=\"dataframe\">\n",
              "  <thead>\n",
              "    <tr style=\"text-align: right;\">\n",
              "      <th></th>\n",
              "      <th>#YY</th>\n",
              "      <th>MM</th>\n",
              "      <th>DD</th>\n",
              "      <th>hh</th>\n",
              "      <th>mm</th>\n",
              "      <th>WDIR</th>\n",
              "      <th>WSPD</th>\n",
              "      <th>GST</th>\n",
              "      <th>WVHT</th>\n",
              "      <th>DPD</th>\n",
              "      <th>APD</th>\n",
              "      <th>MWD</th>\n",
              "      <th>PRES</th>\n",
              "      <th>ATMP</th>\n",
              "      <th>WTMP</th>\n",
              "      <th>DEWP</th>\n",
              "      <th>VIS</th>\n",
              "      <th>TIDE</th>\n",
              "    </tr>\n",
              "  </thead>\n",
              "  <tbody>\n",
              "    <tr>\n",
              "      <th>0</th>\n",
              "      <td>2016</td>\n",
              "      <td>12</td>\n",
              "      <td>31</td>\n",
              "      <td>23</td>\n",
              "      <td>50</td>\n",
              "      <td>207</td>\n",
              "      <td>15.2</td>\n",
              "      <td>18.2</td>\n",
              "      <td>2.95</td>\n",
              "      <td>6.67</td>\n",
              "      <td>5.78</td>\n",
              "      <td>223</td>\n",
              "      <td>1014.3</td>\n",
              "      <td>8.8</td>\n",
              "      <td>8.8</td>\n",
              "      <td>999.0</td>\n",
              "      <td>99.0</td>\n",
              "      <td>99.0</td>\n",
              "    </tr>\n",
              "    <tr>\n",
              "      <th>1</th>\n",
              "      <td>2017</td>\n",
              "      <td>1</td>\n",
              "      <td>1</td>\n",
              "      <td>0</td>\n",
              "      <td>50</td>\n",
              "      <td>215</td>\n",
              "      <td>14.7</td>\n",
              "      <td>19.4</td>\n",
              "      <td>3.42</td>\n",
              "      <td>7.69</td>\n",
              "      <td>6.20</td>\n",
              "      <td>220</td>\n",
              "      <td>1013.9</td>\n",
              "      <td>9.1</td>\n",
              "      <td>8.8</td>\n",
              "      <td>999.0</td>\n",
              "      <td>99.0</td>\n",
              "      <td>99.0</td>\n",
              "    </tr>\n",
              "    <tr>\n",
              "      <th>2</th>\n",
              "      <td>2017</td>\n",
              "      <td>1</td>\n",
              "      <td>1</td>\n",
              "      <td>1</td>\n",
              "      <td>50</td>\n",
              "      <td>217</td>\n",
              "      <td>14.4</td>\n",
              "      <td>18.3</td>\n",
              "      <td>3.47</td>\n",
              "      <td>7.69</td>\n",
              "      <td>6.11</td>\n",
              "      <td>225</td>\n",
              "      <td>1013.3</td>\n",
              "      <td>9.1</td>\n",
              "      <td>8.8</td>\n",
              "      <td>999.0</td>\n",
              "      <td>99.0</td>\n",
              "      <td>99.0</td>\n",
              "    </tr>\n",
              "    <tr>\n",
              "      <th>3</th>\n",
              "      <td>2017</td>\n",
              "      <td>1</td>\n",
              "      <td>1</td>\n",
              "      <td>2</td>\n",
              "      <td>50</td>\n",
              "      <td>228</td>\n",
              "      <td>14.9</td>\n",
              "      <td>18.7</td>\n",
              "      <td>3.31</td>\n",
              "      <td>8.33</td>\n",
              "      <td>6.17</td>\n",
              "      <td>203</td>\n",
              "      <td>1013.0</td>\n",
              "      <td>8.7</td>\n",
              "      <td>8.8</td>\n",
              "      <td>999.0</td>\n",
              "      <td>99.0</td>\n",
              "      <td>99.0</td>\n",
              "    </tr>\n",
              "    <tr>\n",
              "      <th>4</th>\n",
              "      <td>2017</td>\n",
              "      <td>1</td>\n",
              "      <td>1</td>\n",
              "      <td>3</td>\n",
              "      <td>50</td>\n",
              "      <td>228</td>\n",
              "      <td>15.4</td>\n",
              "      <td>19.6</td>\n",
              "      <td>3.81</td>\n",
              "      <td>8.33</td>\n",
              "      <td>6.47</td>\n",
              "      <td>219</td>\n",
              "      <td>1012.7</td>\n",
              "      <td>8.9</td>\n",
              "      <td>8.8</td>\n",
              "      <td>999.0</td>\n",
              "      <td>99.0</td>\n",
              "      <td>99.0</td>\n",
              "    </tr>\n",
              "  </tbody>\n",
              "</table>\n",
              "</div>"
            ],
            "text/plain": [
              "    #YY  MM  DD  hh  mm  WDIR  WSPD   GST  WVHT   DPD   APD  MWD    PRES  \\\n",
              "0  2016  12  31  23  50   207  15.2  18.2  2.95  6.67  5.78  223  1014.3   \n",
              "1  2017   1   1   0  50   215  14.7  19.4  3.42  7.69  6.20  220  1013.9   \n",
              "2  2017   1   1   1  50   217  14.4  18.3  3.47  7.69  6.11  225  1013.3   \n",
              "3  2017   1   1   2  50   228  14.9  18.7  3.31  8.33  6.17  203  1013.0   \n",
              "4  2017   1   1   3  50   228  15.4  19.6  3.81  8.33  6.47  219  1012.7   \n",
              "\n",
              "   ATMP  WTMP   DEWP   VIS  TIDE  \n",
              "0   8.8   8.8  999.0  99.0  99.0  \n",
              "1   9.1   8.8  999.0  99.0  99.0  \n",
              "2   9.1   8.8  999.0  99.0  99.0  \n",
              "3   8.7   8.8  999.0  99.0  99.0  \n",
              "4   8.9   8.8  999.0  99.0  99.0  "
            ]
          },
          "metadata": {
            "tags": []
          },
          "execution_count": 43
        }
      ]
    },
    {
      "metadata": {
        "colab_type": "code",
        "id": "Fg55FJendrPW",
        "outputId": "bc581041-3a21-4cc8-acea-0fb75309fd22",
        "slideshow": {
          "slide_type": "slide"
        },
        "colab": {
          "base_uri": "https://localhost:8080/",
          "height": 85
        }
      },
      "cell_type": "code",
      "source": [
        "ndbc['WDIR'].head(3) # Output just the first 3 elements of one variable"
      ],
      "execution_count": 0,
      "outputs": [
        {
          "output_type": "execute_result",
          "data": {
            "text/plain": [
              "0    207\n",
              "1    215\n",
              "2    217\n",
              "Name: WDIR, dtype: int64"
            ]
          },
          "metadata": {
            "tags": []
          },
          "execution_count": 44
        }
      ]
    },
    {
      "metadata": {
        "colab_type": "code",
        "id": "c-imuA6FdzM0",
        "outputId": "6dc58b65-9669-4e45-d672-60a55d8afeb3",
        "slideshow": {
          "slide_type": "slide"
        },
        "colab": {
          "base_uri": "https://localhost:8080/",
          "height": 340
        }
      },
      "cell_type": "code",
      "source": [
        "# Quickly calculate the mean of each column\n",
        "ndbc.mean(axis=0)"
      ],
      "execution_count": 0,
      "outputs": [
        {
          "output_type": "execute_result",
          "data": {
            "text/plain": [
              "#YY     2016.999881\n",
              "MM         6.489590\n",
              "DD        15.862344\n",
              "hh        11.486377\n",
              "mm        49.999405\n",
              "WDIR     196.579179\n",
              "WSPD       6.805033\n",
              "GST        8.313195\n",
              "WVHT       1.378846\n",
              "DPD        7.616221\n",
              "APD        5.236626\n",
              "MWD      164.758953\n",
              "PRES    1016.071767\n",
              "ATMP      12.123629\n",
              "WTMP      13.502344\n",
              "DEWP     903.288043\n",
              "VIS       99.000000\n",
              "TIDE      99.000000\n",
              "dtype: float64"
            ]
          },
          "metadata": {
            "tags": []
          },
          "execution_count": 45
        }
      ]
    },
    {
      "metadata": {
        "colab_type": "code",
        "id": "Iy6LC85OeJ84",
        "outputId": "3c142444-950b-497e-ad0c-93ad48437176",
        "slideshow": {
          "slide_type": "slide"
        },
        "colab": {
          "base_uri": "https://localhost:8080/",
          "height": 255
        }
      },
      "cell_type": "code",
      "source": [
        "# Using groupby() and the months column we can calculate monthly means\n",
        "ndbc['WSPD'].groupby(ndbc['MM']).mean()"
      ],
      "execution_count": 0,
      "outputs": [
        {
          "output_type": "execute_result",
          "data": {
            "text/plain": [
              "MM\n",
              "1     8.140457\n",
              "2     7.449776\n",
              "3     8.694054\n",
              "4     5.682033\n",
              "5     6.117862\n",
              "6     5.843759\n",
              "7     4.857459\n",
              "8     5.061417\n",
              "9     6.074028\n",
              "10    6.949866\n",
              "11    7.986890\n",
              "12    8.059005\n",
              "Name: WSPD, dtype: float64"
            ]
          },
          "metadata": {
            "tags": []
          },
          "execution_count": 46
        }
      ]
    },
    {
      "metadata": {
        "id": "4CPBp4XhH-8t",
        "colab_type": "text"
      },
      "cell_type": "markdown",
      "source": [
        "If you are running this notebook in another Jupyter environment, you can import the [Seaborn library](https://seaborn.pydata.org) which adds some nice default plot options, like a grey background and gridlines.  However, this is not necessary in Colab, because it is already loaded by default."
      ]
    },
    {
      "metadata": {
        "id": "2lmiws17-T9-",
        "colab_type": "code",
        "colab": {}
      },
      "cell_type": "code",
      "source": [
        "# import seaborn as sns\n",
        "# sns.set()"
      ],
      "execution_count": 0,
      "outputs": []
    },
    {
      "metadata": {
        "colab_type": "code",
        "id": "dxdEyOv9eeWk",
        "outputId": "b5f0e762-c0c0-4ad2-95e4-eeb105a6c482",
        "slideshow": {
          "slide_type": "slide"
        },
        "colab": {
          "base_uri": "https://localhost:8080/",
          "height": 347
        }
      },
      "cell_type": "code",
      "source": [
        "# Basic plotting is bulit into Pandas\n",
        "# Let's plot the wind speed variable\n",
        "# Note, the x-axis is just an index number\n",
        "ndbc['WSPD'].plot();"
      ],
      "execution_count": 0,
      "outputs": [
        {
          "output_type": "display_data",
          "data": {
            "image/png": "[encoded data removed]",
            "text/plain": [
              "<Figure size 576x396 with 1 Axes>"
            ]
          },
          "metadata": {
            "tags": []
          }
        }
      ]
    },
    {
      "metadata": {
        "id": "Db6FseYBP6Vz",
        "colab_type": "code",
        "outputId": "351cb6a7-f012-45d8-9515-07e2ca7b422c",
        "colab": {
          "base_uri": "https://localhost:8080/",
          "height": 361
        }
      },
      "cell_type": "code",
      "source": [
        "# Thanks to pandas, we can group values by the month column and therefore plot monthly averages\n",
        "ndbc['WSPD'].groupby(ndbc['MM']).mean().plot();"
      ],
      "execution_count": 0,
      "outputs": [
        {
          "output_type": "display_data",
          "data": {
            "image/png": "[encoded data removed]",
            "text/plain": [
              "<Figure size 576x396 with 1 Axes>"
            ]
          },
          "metadata": {
            "tags": []
          }
        }
      ]
    },
    {
      "metadata": {
        "colab_type": "code",
        "id": "3_33NESWY7lE",
        "outputId": "6bd6036a-cf73-493b-cbff-45ff4256d48e",
        "slideshow": {
          "slide_type": "slide"
        },
        "colab": {
          "base_uri": "https://localhost:8080/",
          "height": 348
        }
      },
      "cell_type": "code",
      "source": [
        "# To plot a time series, we need to create a datetime vector\n",
        "from datetime import datetime\n",
        "df = pd.DataFrame({'year': ndbc['#YY'], 'month': ndbc['MM'], 'day': ndbc['DD'], 'hour': ndbc['hh'], 'minute': ndbc['mm']})\n",
        "ndbc['datetime'] = pd.to_datetime(df)\n",
        "\n",
        "# Change the array index to use the datetime column\n",
        "ndbc = ndbc.set_index('datetime')\n",
        "\n",
        "# Now we can easily plot the Air Temperature vs. datetime!\n",
        "ndbc['ATMP'].plot();"
      ],
      "execution_count": 0,
      "outputs": [
        {
          "output_type": "display_data",
          "data": {
            "image/png": "[encoded data removed]",
            "text/plain": [
              "<Figure size 576x396 with 1 Axes>"
            ]
          },
          "metadata": {
            "tags": []
          }
        }
      ]
    },
    {
      "metadata": {
        "colab_type": "code",
        "id": "PVvwlgF-Y7lF",
        "outputId": "aa6ac64c-8077-42af-ded9-92f8d2ff4eda",
        "slideshow": {
          "slide_type": "slide"
        },
        "colab": {
          "base_uri": "https://localhost:8080/",
          "height": 322
        }
      },
      "cell_type": "code",
      "source": [
        "# Pandas even lest you do a whole bunch of quick analysis in one line\n",
        "ndbc.describe()"
      ],
      "execution_count": 0,
      "outputs": [
        {
          "output_type": "execute_result",
          "data": {
            "text/html": [
              "<div>\n",
              "<style scoped>\n",
              "    .dataframe tbody tr th:only-of-type {\n",
              "        vertical-align: middle;\n",
              "    }\n",
              "\n",
              "    .dataframe tbody tr th {\n",
              "        vertical-align: top;\n",
              "    }\n",
              "\n",
              "    .dataframe thead th {\n",
              "        text-align: right;\n",
              "    }\n",
              "</style>\n",
              "<table border=\"1\" class=\"dataframe\">\n",
              "  <thead>\n",
              "    <tr style=\"text-align: right;\">\n",
              "      <th></th>\n",
              "      <th>#YY</th>\n",
              "      <th>MM</th>\n",
              "      <th>DD</th>\n",
              "      <th>hh</th>\n",
              "      <th>mm</th>\n",
              "      <th>WDIR</th>\n",
              "      <th>WSPD</th>\n",
              "      <th>GST</th>\n",
              "      <th>WVHT</th>\n",
              "      <th>DPD</th>\n",
              "      <th>APD</th>\n",
              "      <th>MWD</th>\n",
              "      <th>PRES</th>\n",
              "      <th>ATMP</th>\n",
              "      <th>WTMP</th>\n",
              "      <th>DEWP</th>\n",
              "      <th>VIS</th>\n",
              "      <th>TIDE</th>\n",
              "    </tr>\n",
              "  </thead>\n",
              "  <tbody>\n",
              "    <tr>\n",
              "      <th>count</th>\n",
              "      <td>8405.000000</td>\n",
              "      <td>8405.000000</td>\n",
              "      <td>8405.000000</td>\n",
              "      <td>8405.000000</td>\n",
              "      <td>8405.000000</td>\n",
              "      <td>8405.000000</td>\n",
              "      <td>8405.000000</td>\n",
              "      <td>8405.000000</td>\n",
              "      <td>8405.000000</td>\n",
              "      <td>8405.000000</td>\n",
              "      <td>8405.000000</td>\n",
              "      <td>8405.000000</td>\n",
              "      <td>8405.000000</td>\n",
              "      <td>8405.000000</td>\n",
              "      <td>8405.000000</td>\n",
              "      <td>8405.000000</td>\n",
              "      <td>8405.0</td>\n",
              "      <td>8405.0</td>\n",
              "    </tr>\n",
              "    <tr>\n",
              "      <th>mean</th>\n",
              "      <td>2016.999881</td>\n",
              "      <td>6.489590</td>\n",
              "      <td>15.862344</td>\n",
              "      <td>11.486377</td>\n",
              "      <td>49.999405</td>\n",
              "      <td>196.579179</td>\n",
              "      <td>6.805033</td>\n",
              "      <td>8.313195</td>\n",
              "      <td>1.378846</td>\n",
              "      <td>7.616221</td>\n",
              "      <td>5.236626</td>\n",
              "      <td>164.758953</td>\n",
              "      <td>1016.071767</td>\n",
              "      <td>12.123629</td>\n",
              "      <td>13.502344</td>\n",
              "      <td>903.288043</td>\n",
              "      <td>99.0</td>\n",
              "      <td>99.0</td>\n",
              "    </tr>\n",
              "    <tr>\n",
              "      <th>std</th>\n",
              "      <td>0.010908</td>\n",
              "      <td>3.506544</td>\n",
              "      <td>8.663989</td>\n",
              "      <td>6.925693</td>\n",
              "      <td>0.054538</td>\n",
              "      <td>99.891368</td>\n",
              "      <td>3.513243</td>\n",
              "      <td>4.283560</td>\n",
              "      <td>1.982873</td>\n",
              "      <td>3.924234</td>\n",
              "      <td>2.112808</td>\n",
              "      <td>72.208377</td>\n",
              "      <td>8.328311</td>\n",
              "      <td>7.642789</td>\n",
              "      <td>6.218949</td>\n",
              "      <td>291.313517</td>\n",
              "      <td>0.0</td>\n",
              "      <td>0.0</td>\n",
              "    </tr>\n",
              "    <tr>\n",
              "      <th>min</th>\n",
              "      <td>2016.000000</td>\n",
              "      <td>1.000000</td>\n",
              "      <td>1.000000</td>\n",
              "      <td>0.000000</td>\n",
              "      <td>45.000000</td>\n",
              "      <td>1.000000</td>\n",
              "      <td>0.000000</td>\n",
              "      <td>0.100000</td>\n",
              "      <td>0.200000</td>\n",
              "      <td>2.470000</td>\n",
              "      <td>2.880000</td>\n",
              "      <td>1.000000</td>\n",
              "      <td>977.100000</td>\n",
              "      <td>-8.400000</td>\n",
              "      <td>4.300000</td>\n",
              "      <td>-0.500000</td>\n",
              "      <td>99.0</td>\n",
              "      <td>99.0</td>\n",
              "    </tr>\n",
              "    <tr>\n",
              "      <th>25%</th>\n",
              "      <td>2017.000000</td>\n",
              "      <td>3.000000</td>\n",
              "      <td>8.000000</td>\n",
              "      <td>5.000000</td>\n",
              "      <td>50.000000</td>\n",
              "      <td>105.000000</td>\n",
              "      <td>4.200000</td>\n",
              "      <td>5.100000</td>\n",
              "      <td>0.830000</td>\n",
              "      <td>5.560000</td>\n",
              "      <td>4.400000</td>\n",
              "      <td>114.000000</td>\n",
              "      <td>1011.700000</td>\n",
              "      <td>6.500000</td>\n",
              "      <td>7.500000</td>\n",
              "      <td>999.000000</td>\n",
              "      <td>99.0</td>\n",
              "      <td>99.0</td>\n",
              "    </tr>\n",
              "    <tr>\n",
              "      <th>50%</th>\n",
              "      <td>2017.000000</td>\n",
              "      <td>6.000000</td>\n",
              "      <td>16.000000</td>\n",
              "      <td>11.000000</td>\n",
              "      <td>50.000000</td>\n",
              "      <td>212.000000</td>\n",
              "      <td>6.300000</td>\n",
              "      <td>7.600000</td>\n",
              "      <td>1.170000</td>\n",
              "      <td>7.140000</td>\n",
              "      <td>4.970000</td>\n",
              "      <td>154.000000</td>\n",
              "      <td>1015.800000</td>\n",
              "      <td>11.700000</td>\n",
              "      <td>13.000000</td>\n",
              "      <td>999.000000</td>\n",
              "      <td>99.0</td>\n",
              "      <td>99.0</td>\n",
              "    </tr>\n",
              "    <tr>\n",
              "      <th>75%</th>\n",
              "      <td>2017.000000</td>\n",
              "      <td>10.000000</td>\n",
              "      <td>23.000000</td>\n",
              "      <td>17.000000</td>\n",
              "      <td>50.000000</td>\n",
              "      <td>280.000000</td>\n",
              "      <td>9.100000</td>\n",
              "      <td>11.000000</td>\n",
              "      <td>1.690000</td>\n",
              "      <td>9.090000</td>\n",
              "      <td>5.760000</td>\n",
              "      <td>196.000000</td>\n",
              "      <td>1021.200000</td>\n",
              "      <td>19.400000</td>\n",
              "      <td>19.500000</td>\n",
              "      <td>999.000000</td>\n",
              "      <td>99.0</td>\n",
              "      <td>99.0</td>\n",
              "    </tr>\n",
              "    <tr>\n",
              "      <th>max</th>\n",
              "      <td>2017.000000</td>\n",
              "      <td>12.000000</td>\n",
              "      <td>31.000000</td>\n",
              "      <td>23.000000</td>\n",
              "      <td>50.000000</td>\n",
              "      <td>360.000000</td>\n",
              "      <td>20.400000</td>\n",
              "      <td>27.000000</td>\n",
              "      <td>99.000000</td>\n",
              "      <td>99.000000</td>\n",
              "      <td>99.000000</td>\n",
              "      <td>999.000000</td>\n",
              "      <td>1041.500000</td>\n",
              "      <td>26.300000</td>\n",
              "      <td>26.900000</td>\n",
              "      <td>999.000000</td>\n",
              "      <td>99.0</td>\n",
              "      <td>99.0</td>\n",
              "    </tr>\n",
              "  </tbody>\n",
              "</table>\n",
              "</div>"
            ],
            "text/plain": [
              "               #YY           MM           DD           hh           mm  \\\n",
              "count  8405.000000  8405.000000  8405.000000  8405.000000  8405.000000   \n",
              "mean   2016.999881     6.489590    15.862344    11.486377    49.999405   \n",
              "std       0.010908     3.506544     8.663989     6.925693     0.054538   \n",
              "min    2016.000000     1.000000     1.000000     0.000000    45.000000   \n",
              "25%    2017.000000     3.000000     8.000000     5.000000    50.000000   \n",
              "50%    2017.000000     6.000000    16.000000    11.000000    50.000000   \n",
              "75%    2017.000000    10.000000    23.000000    17.000000    50.000000   \n",
              "max    2017.000000    12.000000    31.000000    23.000000    50.000000   \n",
              "\n",
              "              WDIR         WSPD          GST         WVHT          DPD  \\\n",
              "count  8405.000000  8405.000000  8405.000000  8405.000000  8405.000000   \n",
              "mean    196.579179     6.805033     8.313195     1.378846     7.616221   \n",
              "std      99.891368     3.513243     4.283560     1.982873     3.924234   \n",
              "min       1.000000     0.000000     0.100000     0.200000     2.470000   \n",
              "25%     105.000000     4.200000     5.100000     0.830000     5.560000   \n",
              "50%     212.000000     6.300000     7.600000     1.170000     7.140000   \n",
              "75%     280.000000     9.100000    11.000000     1.690000     9.090000   \n",
              "max     360.000000    20.400000    27.000000    99.000000    99.000000   \n",
              "\n",
              "               APD          MWD         PRES         ATMP         WTMP  \\\n",
              "count  8405.000000  8405.000000  8405.000000  8405.000000  8405.000000   \n",
              "mean      5.236626   164.758953  1016.071767    12.123629    13.502344   \n",
              "std       2.112808    72.208377     8.328311     7.642789     6.218949   \n",
              "min       2.880000     1.000000   977.100000    -8.400000     4.300000   \n",
              "25%       4.400000   114.000000  1011.700000     6.500000     7.500000   \n",
              "50%       4.970000   154.000000  1015.800000    11.700000    13.000000   \n",
              "75%       5.760000   196.000000  1021.200000    19.400000    19.500000   \n",
              "max      99.000000   999.000000  1041.500000    26.300000    26.900000   \n",
              "\n",
              "              DEWP     VIS    TIDE  \n",
              "count  8405.000000  8405.0  8405.0  \n",
              "mean    903.288043    99.0    99.0  \n",
              "std     291.313517     0.0     0.0  \n",
              "min      -0.500000    99.0    99.0  \n",
              "25%     999.000000    99.0    99.0  \n",
              "50%     999.000000    99.0    99.0  \n",
              "75%     999.000000    99.0    99.0  \n",
              "max     999.000000    99.0    99.0  "
            ]
          },
          "metadata": {
            "tags": []
          },
          "execution_count": 51
        }
      ]
    },
    {
      "metadata": {
        "colab_type": "text",
        "id": "SAqDEedZgGUU",
        "slideshow": {
          "slide_type": "slide"
        }
      },
      "cell_type": "markdown",
      "source": [
        "## Matplotlib\n",
        "\n",
        "[Matplotlib](https://matplotlib.org) is the Matlab-like equivalent to plotting in Python.\n",
        "\n",
        "Remember, you can add a semi-colon to the last line to suppress unwanted output, which often happens when using matplotlib."
      ]
    },
    {
      "metadata": {
        "colab_type": "code",
        "id": "EnVWP7GBY7lG",
        "colab": {}
      },
      "cell_type": "code",
      "source": [
        "import matplotlib.pyplot as plt"
      ],
      "execution_count": 0,
      "outputs": []
    },
    {
      "metadata": {
        "colab_type": "code",
        "id": "XR8QRziGfOjT",
        "outputId": "680dbc51-1530-4194-8d40-6156b5d5c9ba",
        "slideshow": {
          "slide_type": "slide"
        },
        "colab": {
          "base_uri": "https://localhost:8080/",
          "height": 347
        }
      },
      "cell_type": "code",
      "source": [
        "# Let's make a simple plot\n",
        "t = np.linspace(0,10,100)\n",
        "y = np.cos(t)*np.sin(t)\n",
        "\n",
        "plt.plot(t, y, '-rs'); # Line with red squares"
      ],
      "execution_count": 0,
      "outputs": [
        {
          "output_type": "display_data",
          "data": {
            "image/png": "[encoded data removed]",
            "text/plain": [
              "<Figure size 576x396 with 1 Axes>"
            ]
          },
          "metadata": {
            "tags": []
          }
        }
      ]
    },
    {
      "metadata": {
        "colab_type": "code",
        "id": "CJ93ezI5hJNB",
        "outputId": "9d315cbb-ceee-4117-b64b-6718e8f61035",
        "slideshow": {
          "slide_type": "slide"
        },
        "colab": {
          "base_uri": "https://localhost:8080/",
          "height": 376
        }
      },
      "cell_type": "code",
      "source": [
        "# A slightly more advanced example\n",
        "mu, sigma = 100, 15\n",
        "x = mu + sigma * np.random.randn(100)\n",
        "\n",
        "plt.plot(x,'r.') #Red dots\n",
        "plt.xlabel('Smarts')\n",
        "plt.ylabel('Probability')\n",
        "plt.title('Histogram of IQ')\n",
        "plt.text(10, 135, r'$\\mu=100, \\ \\sigma=15$'); #Annotations can support LaTex"
      ],
      "execution_count": 0,
      "outputs": [
        {
          "output_type": "display_data",
          "data": {
            "image/png": "[encoded data removed]",
            "text/plain": [
              "<Figure size 576x396 with 1 Axes>"
            ]
          },
          "metadata": {
            "tags": []
          }
        }
      ]
    },
    {
      "metadata": {
        "colab_type": "text",
        "id": "iihaQuTFjaP1"
      },
      "cell_type": "markdown",
      "source": [
        "For more, check out the great list of [Matplotlib Examples](https://matplotlib.org/gallery/index.html), and also check out the [Seaborn](https://seaborn.pydata.org) library, which provides a great set of defaults to make your plots look better.  (Google Colab includes this by default.)"
      ]
    },
    {
      "metadata": {
        "colab_type": "text",
        "id": "bLpTzP346rF-",
        "slideshow": {
          "slide_type": "slide"
        }
      },
      "cell_type": "markdown",
      "source": [
        "## Additional Resources\n",
        "\n",
        "* [NumPy for Matlab users](https://docs.scipy.org/doc/numpy/user/numpy-for-matlab-users.html) - A quick introduction from SciPy\n",
        "* [NumPy for Matlab users Cheatsheet](http://mathesaurus.sourceforge.net/matlab-numpy.html)\n",
        "* [MATLAB vs. Python: Top Reasons to Choose MATLAB](https://www.mathworks.com/products/matlab/matlab-vs-python.html) - For another perspective\n",
        "* [Pangeo Python Basics Tutorial](https://github.com/pangeo-data/pangeo-tutorial-sea-2018/blob/master/notebooks/1.0.scientific_python_ecosystem.ipynb)  - Many of the above examples come from this.\n",
        "* [Python for Matlab Users](http://researchcomputing.github.io/meetup_fall_2014/pdfs/fall2014_meetup13_python_matlab.pdf) - A meetup presentation from CSU.  This is a good overview.  Some of the above examples also come from this.\n",
        "* [Pyzo Python vs. Matlab](http://www.pyzo.org/python_vs_matlab.html)\n",
        "* [Webinar: Python for MATLAB Users, What You Need to Know](https://www.youtube.com/watch?v=YkCegjtoHFQ)\n",
        "* [Python Graph Gallery](https://python-graph-gallery.com) - For when you need more inspiration"
      ]
    },
    {
      "metadata": {
        "id": "CpoiqVQjToe7",
        "colab_type": "code",
        "colab": {}
      },
      "cell_type": "code",
      "source": [
        ""
      ],
      "execution_count": 0,
      "outputs": []
    }
  ]
}