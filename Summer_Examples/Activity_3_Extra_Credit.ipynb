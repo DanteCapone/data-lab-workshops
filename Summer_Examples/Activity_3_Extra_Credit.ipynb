{
  "nbformat": 4,
  "nbformat_minor": 0,
  "metadata": {
    "colab": {
      "name": "Activity 3 Extra Credit.ipynb",
      "version": "0.3.2",
      "provenance": [],
      "collapsed_sections": [],
      "toc_visible": true
    },
    "kernelspec": {
      "name": "python3",
      "display_name": "Python 3"
    }
  },
  "cells": [
    {
      "cell_type": "markdown",
      "metadata": {
        "id": "LiPthtG3isLc",
        "colab_type": "text"
      },
      "source": [
        "# Activity 3 - Extra Credit\n",
        "*Written by Sage Lichtenwalner, Rutgers University, May 31, 2019*\n",
        "\n",
        "The example was developed for the **June 2019 OOI Ocean Data Labs Workshop**"
      ]
    },
    {
      "cell_type": "markdown",
      "metadata": {
        "id": "cS2TUkBn1nyM",
        "colab_type": "text"
      },
      "source": [
        "This Python notebook includes the essential code needed to access, plot and export a dataset obtained from the OOI data portal.  It is designed as a follow up activity that explores a few different OOI datasets using the same Python code used in the previous activities.\n",
        "\n",
        "In this notebook, we will review the following **Data Discovery** steps:\n",
        "3.  Loading Data\n",
        "4. Exporting Data for use in other Tools/Software\n",
        "5. Quick Plots\n",
        "6. Basic Statistics and Analysis"
      ]
    },
    {
      "cell_type": "code",
      "metadata": {
        "id": "eHk8O3nWiDi4",
        "colab_type": "code",
        "colab": {}
      },
      "source": [
        "# Install the required libraries\n",
        "import xarray as xr\n",
        "!pip install netcdf4==1.5.0\n",
        "import pandas as pd\n",
        "import matplotlib.pyplot as plt\n",
        "import datetime"
      ],
      "execution_count": 0,
      "outputs": []
    },
    {
      "cell_type": "markdown",
      "metadata": {
        "id": "xCOIdXnRiKNo",
        "colab_type": "text"
      },
      "source": [
        "## Choose a Dataset\n",
        "The following data files have already been generated using the OOI data portal.  Choose one to work through the rest of the notebook by uncommenting one of the lines.  Once you have worked through one dataset, you can come back and try another one.  Or simply copy the code and add additional lines to the bottom of the notebook."
      ]
    },
    {
      "cell_type": "code",
      "metadata": {
        "id": "1_UgrbqO7W-f",
        "colab_type": "code",
        "colab": {}
      },
      "source": [
        "# Irminger Sea Dissolved Oxygen & CTD\n",
        "datafile = 'https://opendap.oceanobservatories.org/thredds/dodsC/ooi/sage-marine-rutgers/20190307T155319-GI03FLMA-RIS01-03-DOSTAD000-recovered_host-dosta_abcdjm_sio_instrument_recovered/deployment0001_GI03FLMA-RIS01-03-DOSTAD000-recovered_host-dosta_abcdjm_sio_instrument_recovered_20140912T201501-20150818T103001.nc'\n",
        "\n",
        "# Papa 30m CTD\n",
        "# datafile ='https://opendap.oceanobservatories.org/thredds/dodsC/ooi/sage-marine-rutgers/20190311T035700-GP03FLMB-RIM01-02-CTDMOG060-recovered_inst-ctdmo_ghqr_instrument_recovered/deployment0001_GP03FLMB-RIM01-02-CTDMOG060-recovered_inst-ctdmo_ghqr_instrument_recovered_20130724T064501-20140617T234501.nc'\n",
        "\n",
        "# Endurance Fluorometer\n",
        "# datafile = 'https://opendap.oceanobservatories.org/thredds/dodsC/ooi/sage-marine-rutgers/20190311T023920-CE01ISSM-SBD17-06-FLORTD000-telemetered-flort_sample/deployment0010_CE01ISSM-SBD17-06-FLORTD000-telemetered-flort_sample_20180929T213119.598000-20190309T123011.918000.nc'\n",
        "\n",
        "# Pioneer Meteolorogical Data\n",
        "# datafile = 'https://opendap.oceanobservatories.org/thredds/dodsC/ooi/sage-marine-rutgers/20190311T023143-CP04OSSM-SBD11-06-METBKA000-telemetered-metbk_a_dcl_instrument/deployment0009_CP04OSSM-SBD11-06-METBKA000-telemetered-metbk_a_dcl_instrument_20181025T153105.277000-20190201T180357.291000.nc'\n",
        "\n",
        "# Pioneer Profiling CTD (this is a big file)\n",
        "# datafile = 'https://opendap.oceanobservatories.org/thredds/dodsC/ooi/sage-marine-rutgers/20190311T023451-CP04OSPM-WFP01-03-CTDPFK000-telemetered-ctdpf_ckl_wfp_instrument/deployment0010_CP04OSPM-WFP01-03-CTDPFK000-telemetered-ctdpf_ckl_wfp_instrument_20181106T180003-20190310T183237.990765.nc'\n"
      ],
      "execution_count": 0,
      "outputs": []
    },
    {
      "cell_type": "markdown",
      "metadata": {
        "id": "qbXYb8PuqoZ-",
        "colab_type": "text"
      },
      "source": [
        "## Load and subset the data"
      ]
    },
    {
      "cell_type": "code",
      "metadata": {
        "id": "POgkQjkF4Rai",
        "colab_type": "code",
        "colab": {}
      },
      "source": [
        "# Load the data\n",
        "ds = xr.open_dataset(datafile)\n",
        "ds = ds.swap_dims({'obs': 'time'}) # Swap Dimensions\n",
        "\n",
        "print('Dataset has %d points' % ds.time.size)"
      ],
      "execution_count": 0,
      "outputs": []
    },
    {
      "cell_type": "code",
      "metadata": {
        "id": "VQlJU6Tao300",
        "colab_type": "code",
        "colab": {}
      },
      "source": [
        "# Print a list of variables in the file\n",
        "ds.data_vars"
      ],
      "execution_count": 0,
      "outputs": []
    },
    {
      "cell_type": "code",
      "metadata": {
        "id": "t39sFd1QB2Rv",
        "colab_type": "code",
        "colab": {}
      },
      "source": [
        "# Next, let's convert the xarray Dataset to a pandas DataFrame for ease of use\n",
        "df = ds.to_dataframe()"
      ],
      "execution_count": 0,
      "outputs": []
    },
    {
      "cell_type": "code",
      "metadata": {
        "id": "arOLsWrqqJ-8",
        "colab_type": "code",
        "colab": {}
      },
      "source": [
        "# Alternatively, we can first select just the variables we need\n",
        "\n",
        "# The following line is for the DO dataset.  It will have to be adapted for the other options.\n",
        "# df = ds[['ctdmo_seawater_temperature','practical_salinity','dissolved_oxygen']].to_dataframe()\n",
        "\n",
        "# We may also need to drop some additional unnecessary columns, like these for the DO dataset\n",
        "# df = df.drop(columns=['obs','lon','lat'])"
      ],
      "execution_count": 0,
      "outputs": []
    },
    {
      "cell_type": "code",
      "metadata": {
        "id": "AmqxFK3LuFpu",
        "colab_type": "code",
        "colab": {}
      },
      "source": [
        "# We can also subset the data to a specific time range\n",
        "# df = df.loc[datetime.date(2014,10,1):datetime.date(2014,11,1)]"
      ],
      "execution_count": 0,
      "outputs": []
    },
    {
      "cell_type": "code",
      "metadata": {
        "id": "mYAhhnfnqLPg",
        "colab_type": "code",
        "colab": {}
      },
      "source": [
        "# Output the first few rows using .head() or last few with .tail()\n",
        "df.head()"
      ],
      "execution_count": 0,
      "outputs": []
    },
    {
      "cell_type": "markdown",
      "metadata": {
        "id": "OhTNVUnirMac",
        "colab_type": "text"
      },
      "source": [
        "## Export the Data to CSV"
      ]
    },
    {
      "cell_type": "code",
      "metadata": {
        "id": "eKtxMXBVD2un",
        "colab_type": "code",
        "colab": {}
      },
      "source": [
        "# Export the data to a CSV file\n",
        "df.to_csv('output.csv') "
      ],
      "execution_count": 0,
      "outputs": []
    },
    {
      "cell_type": "code",
      "metadata": {
        "id": "57Zbz1SlD3wu",
        "colab_type": "code",
        "colab": {}
      },
      "source": [
        "# If we have a large file, you can compress it using:\n",
        "# !gzip output.csv"
      ],
      "execution_count": 0,
      "outputs": []
    },
    {
      "cell_type": "code",
      "metadata": {
        "id": "UHsQHO1HrLNR",
        "colab_type": "code",
        "colab": {}
      },
      "source": [
        "# Alternatively, you can export the daily averaged data\n",
        "df.resample('D').mean().to_csv('output_daily.csv')"
      ],
      "execution_count": 0,
      "outputs": []
    },
    {
      "cell_type": "code",
      "metadata": {
        "id": "C76Ts7qkw3HK",
        "colab_type": "code",
        "colab": {}
      },
      "source": [
        "# How big are the files\n",
        "!du -sh *"
      ],
      "execution_count": 0,
      "outputs": []
    },
    {
      "cell_type": "markdown",
      "metadata": {
        "id": "gmHmD08ViKXA",
        "colab_type": "text"
      },
      "source": [
        "## Basic Statistics"
      ]
    },
    {
      "cell_type": "code",
      "metadata": {
        "id": "Wzg7VdZ9rUq_",
        "colab_type": "code",
        "colab": {}
      },
      "source": [
        "df.describe()"
      ],
      "execution_count": 0,
      "outputs": []
    },
    {
      "cell_type": "code",
      "metadata": {
        "id": "teClb-Uj3EY0",
        "colab_type": "code",
        "colab": {}
      },
      "source": [
        "# Add your own code here to pull out the means or standard deviations for specific variables"
      ],
      "execution_count": 0,
      "outputs": []
    },
    {
      "cell_type": "markdown",
      "metadata": {
        "id": "oJvy_hBfiKR5",
        "colab_type": "text"
      },
      "source": [
        "## Some Basic Plotting Fun\n",
        "And now we can make some quick plots with the data.  Each of the following lines works with one of the corresponding data files above.  Of course, there are many other variables in each file that you can explore and plot as timeseries or scatterplots."
      ]
    },
    {
      "cell_type": "code",
      "metadata": {
        "id": "TlIvDj1Wu56v",
        "colab_type": "code",
        "colab": {}
      },
      "source": [
        "df.dissolved_oxygen.plot() # Irminger DO Sensor\n",
        "\n",
        "# df.ctdmo_seawater_temperature.plot() #Papa CTD\n",
        "\n",
        "# df.fluorometric_chlorophyll_a.plot() # Endruance Fluorometer\n",
        "\n",
        "# df.sea_surface_temperature.plot() # Pioneer Met Sensor\n",
        "# df.air_temperature.plot()\n",
        "\n",
        "# df.ctdpf_ckl_seawater_temperature.plot() # Pioneer Profiling CTD"
      ],
      "execution_count": 0,
      "outputs": []
    },
    {
      "cell_type": "code",
      "metadata": {
        "id": "2OUmQK1633WI",
        "colab_type": "code",
        "colab": {}
      },
      "source": [
        "# Add your own code here to create some additional plots"
      ],
      "execution_count": 0,
      "outputs": []
    },
    {
      "cell_type": "markdown",
      "metadata": {
        "id": "8oNhzlw16pVk",
        "colab_type": "text"
      },
      "source": [
        "## Advanced Plots"
      ]
    },
    {
      "cell_type": "markdown",
      "metadata": {
        "id": "MlQHzaugvKvy",
        "colab_type": "text"
      },
      "source": [
        "**Irminger DO**\n",
        "\n",
        "The following is a more advanced plotting example that works with the DO data file.  It will need to be tweaked to work with the other files."
      ]
    },
    {
      "cell_type": "code",
      "metadata": {
        "id": "OY9V7sxKA1t7",
        "colab_type": "code",
        "colab": {}
      },
      "source": [
        "fig, (ax1,ax2,ax3,ax4) = plt.subplots(4,1, sharex=True, figsize=(8,6))\n",
        "df['ctdmo_seawater_temperature'].plot(ax=ax1,linestyle='None',marker='.',markersize=1)\n",
        "df['practical_salinity'].plot(ax=ax2,linestyle='None',marker='.',markersize=1)\n",
        "df['int_ctd_pressure'].plot(ax=ax3,linestyle='None',marker='.',markersize=1);\n",
        "df['dissolved_oxygen'].plot(ax=ax4,linestyle='None',marker='.',markersize=1);\n",
        "\n",
        "ax1.set_ylabel('Temp')\n",
        "ax2.set_ylabel('Salinity')\n",
        "ax3.set_ylabel('Pressure')\n",
        "ax4.set_ylabel('DO')\n",
        "\n",
        "# Let's change the salinity y-limits to account for outliners\n",
        "ax2.set_ylim(34.6,35.2);\n",
        "\n",
        "ax1.set_title('Data from %s' % ds.subsite);"
      ],
      "execution_count": 0,
      "outputs": []
    },
    {
      "cell_type": "markdown",
      "metadata": {
        "id": "KXauHKtaxsFc",
        "colab_type": "text"
      },
      "source": [
        "**Pioneer Profiling CTD**\n",
        "\n",
        "The following scatterplot example is designed to plot the Profiling CTD dataset. This will take a minute, as there is a lot of data."
      ]
    },
    {
      "cell_type": "code",
      "metadata": {
        "id": "BfALubqBxqgA",
        "colab_type": "code",
        "colab": {}
      },
      "source": [
        "# Scatterplots of Temperature and Salinity\n",
        "fig, (ax1,ax2) = plt.subplots(2,1, sharex=True, sharey=True, figsize=(10,6))\n",
        "\n",
        "sc1 = ax1.scatter(df.index, df.ctdpf_ckl_seawater_pressure, c=df.ctdpf_ckl_seawater_temperature, cmap='RdYlBu_r', s=2)\n",
        "sc2 = ax2.scatter(df.index, df.ctdpf_ckl_seawater_pressure, c=df.practical_salinity, cmap='Blues_r', s=2)\n",
        "\n",
        "# Because the X and Y axes are shared, we only have to set limits once\n",
        "ax1.invert_yaxis() # Invert y axis\n",
        "ax1.set_xlim(df.index[0],df.index[-1]) # Set the time limits to match the dataset\n",
        "\n",
        "cbar = fig.colorbar(sc1, ax=ax1, orientation='vertical')\n",
        "cbar.ax.set_ylabel('Temperature')\n",
        "cbar = fig.colorbar(sc2, ax=ax2, orientation='vertical')\n",
        "cbar.ax.set_ylabel('Salinity')\n",
        "\n",
        "ax1.set_ylabel('Pressure (dbar)')\n",
        "ax2.set_ylabel('Pressure (dbar)')\n",
        "\n",
        "fig.suptitle('Data from %s' % ds.subsite)\n",
        "fig.autofmt_xdate()\n",
        "fig.subplots_adjust(top=0.95);\n"
      ],
      "execution_count": 0,
      "outputs": []
    },
    {
      "cell_type": "code",
      "metadata": {
        "id": "SqQqe_An4IHi",
        "colab_type": "code",
        "colab": {}
      },
      "source": [
        ""
      ],
      "execution_count": 0,
      "outputs": []
    }
  ]
}